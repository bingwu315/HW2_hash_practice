{
 "cells": [
  {
   "cell_type": "code",
   "execution_count": 21,
   "id": "db57447e",
   "metadata": {},
   "outputs": [
    {
     "name": "stdout",
     "output_type": "stream",
     "text": [
      "共有10個不重複的英文字\n",
      "Cheese: 234次\n",
      "Pizza: 83次\n",
      "Coke: 145次\n",
      "Steak: 46次\n",
      "Burger: 196次\n",
      "Fries: 76次\n",
      "Rib: 33次\n",
      "Taco: 57次\n",
      "Pho: 19次\n",
      "Potato: 3次\n"
     ]
    }
   ],
   "source": [
    "inputfile=open('hw2_data.txt','r')\n",
    "foods=[]\n",
    "for i in inputfile:\n",
    "    i=i.replace('\\n','')\n",
    "    foods.append(i)\n",
    "food_count = {}\n",
    "\n",
    "for food in foods:\n",
    "    if food in food_count:\n",
    "        food_count[food] += 1\n",
    "    else:\n",
    "        food_count[food] = 1\n",
    "\n",
    "print(\"共有\"+str(len(food_count))+\"個不重複的英文字\")\n",
    "for food, count in food_count.items():\n",
    "    print(f\"{food}: {count}次\")"
   ]
  },
  {
   "cell_type": "code",
   "execution_count": null,
   "id": "7bcb63f3",
   "metadata": {},
   "outputs": [],
   "source": []
  }
 ],
 "metadata": {
  "kernelspec": {
   "display_name": "Python 3",
   "language": "python",
   "name": "python3"
  },
  "language_info": {
   "codemirror_mode": {
    "name": "ipython",
    "version": 3
   },
   "file_extension": ".py",
   "mimetype": "text/x-python",
   "name": "python",
   "nbconvert_exporter": "python",
   "pygments_lexer": "ipython3",
   "version": "3.8.8"
  }
 },
 "nbformat": 4,
 "nbformat_minor": 5
}
